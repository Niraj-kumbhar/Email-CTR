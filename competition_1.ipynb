{
 "cells": [
  {
   "cell_type": "markdown",
   "metadata": {
    "id": "AdtdDS4GjutK"
   },
   "source": [
    "# Problem Statement"
   ]
  },
  {
   "cell_type": "markdown",
   "metadata": {
    "id": "55h9lZAyjutO"
   },
   "source": [
    " build a machine learning-based approach to predict the CTR of an email campaign\n",
    " \n",
    " ## Step 1: Importing Libraries"
   ]
  },
  {
   "cell_type": "code",
   "execution_count": 69,
   "metadata": {
    "id": "NRbMACwHjutP"
   },
   "outputs": [],
   "source": [
    "import pandas as pd\n",
    "import numpy as np\n",
    "import matplotlib.pyplot as plt\n",
    "import seaborn as sns\n",
    "sns.set()\n",
    "import warnings\n",
    "warnings.filterwarnings('always')\n",
    "warnings.filterwarnings('ignore')\n",
    "\n",
    "from scipy.stats import pearsonr\n",
    "\n",
    "from sklearn.pipeline import Pipeline\n",
    "from sklearn.preprocessing import LabelEncoder, StandardScaler\n",
    "from sklearn.model_selection import train_test_split, GridSearchCV\n",
    "from sklearn.linear_model import LinearRegression, Lasso, Ridge\n",
    "from sklearn.svm import SVR\n",
    "from sklearn.tree import DecisionTreeRegressor\n",
    "from sklearn.ensemble import AdaBoostRegressor,GradientBoostingRegressor,RandomForestRegressor\n",
    "from xgboost import XGBRegressor\n",
    "\n",
    "from sklearn.metrics import r2_score, mean_absolute_error, mean_squared_error"
   ]
  },
  {
   "cell_type": "markdown",
   "metadata": {
    "id": "RPBjSK6QjutQ"
   },
   "source": [
    "## Step 2: Data Inspection"
   ]
  },
  {
   "cell_type": "code",
   "execution_count": 4,
   "metadata": {
    "colab": {
     "base_uri": "https://localhost:8080/"
    },
    "id": "HRniIb9OjzJ9",
    "outputId": "5929d45a-9f34-4771-e8d9-e4a87798acd7"
   },
   "outputs": [
    {
     "name": "stdout",
     "output_type": "stream",
     "text": [
      "Drive already mounted at /gdrive; to attempt to forcibly remount, call drive.mount(\"/gdrive\", force_remount=True).\n",
      "/gdrive/MyDrive/Colab Notebooks\n"
     ]
    }
   ],
   "source": [
    "# we can comment this cell if working on local machine\n",
    "# while working on colab\n",
    "from google.colab import drive\n",
    "drive.mount('/gdrive')\n",
    "%cd /gdrive/MyDrive/Colab Notebooks"
   ]
  },
  {
   "cell_type": "code",
   "execution_count": 5,
   "metadata": {
    "id": "Rdw81GymjutR"
   },
   "outputs": [],
   "source": [
    "train = pd.read_csv('train_F3fUq2S.csv')\n",
    "test = pd.read_csv('test_Bk2wfZ3.csv')"
   ]
  },
  {
   "cell_type": "code",
   "execution_count": 6,
   "metadata": {
    "colab": {
     "base_uri": "https://localhost:8080/"
    },
    "id": "tU-ttpJajutR",
    "outputId": "93a3fe86-7554-4bc4-f8ef-9c7b033b14f2"
   },
   "outputs": [
    {
     "data": {
      "text/plain": [
       "((1888, 22), (762, 21))"
      ]
     },
     "execution_count": 6,
     "metadata": {},
     "output_type": "execute_result"
    }
   ],
   "source": [
    "# rows and columns\n",
    "train.shape, test.shape"
   ]
  },
  {
   "cell_type": "code",
   "execution_count": 7,
   "metadata": {
    "colab": {
     "base_uri": "https://localhost:8080/",
     "height": 300
    },
    "id": "I742WeF8jutS",
    "outputId": "a8caf97f-ee11-41eb-b407-b8b652218465"
   },
   "outputs": [
    {
     "data": {
      "text/html": [
       "\n",
       "  <div id=\"df-36b40841-ff2d-491a-b803-2f03c415ce5b\">\n",
       "    <div class=\"colab-df-container\">\n",
       "      <div>\n",
       "<style scoped>\n",
       "    .dataframe tbody tr th:only-of-type {\n",
       "        vertical-align: middle;\n",
       "    }\n",
       "\n",
       "    .dataframe tbody tr th {\n",
       "        vertical-align: top;\n",
       "    }\n",
       "\n",
       "    .dataframe thead th {\n",
       "        text-align: right;\n",
       "    }\n",
       "</style>\n",
       "<table border=\"1\" class=\"dataframe\">\n",
       "  <thead>\n",
       "    <tr style=\"text-align: right;\">\n",
       "      <th></th>\n",
       "      <th>campaign_id</th>\n",
       "      <th>sender</th>\n",
       "      <th>subject_len</th>\n",
       "      <th>body_len</th>\n",
       "      <th>mean_paragraph_len</th>\n",
       "      <th>day_of_week</th>\n",
       "      <th>is_weekend</th>\n",
       "      <th>times_of_day</th>\n",
       "      <th>category</th>\n",
       "      <th>product</th>\n",
       "      <th>...</th>\n",
       "      <th>is_image</th>\n",
       "      <th>is_personalised</th>\n",
       "      <th>is_quote</th>\n",
       "      <th>is_timer</th>\n",
       "      <th>is_emoticons</th>\n",
       "      <th>is_discount</th>\n",
       "      <th>is_price</th>\n",
       "      <th>is_urgency</th>\n",
       "      <th>target_audience</th>\n",
       "      <th>click_rate</th>\n",
       "    </tr>\n",
       "  </thead>\n",
       "  <tbody>\n",
       "    <tr>\n",
       "      <th>1072</th>\n",
       "      <td>1073</td>\n",
       "      <td>3</td>\n",
       "      <td>96</td>\n",
       "      <td>15629</td>\n",
       "      <td>34</td>\n",
       "      <td>2</td>\n",
       "      <td>0</td>\n",
       "      <td>Evening</td>\n",
       "      <td>15</td>\n",
       "      <td>6</td>\n",
       "      <td>...</td>\n",
       "      <td>2</td>\n",
       "      <td>0</td>\n",
       "      <td>4</td>\n",
       "      <td>0</td>\n",
       "      <td>0</td>\n",
       "      <td>0</td>\n",
       "      <td>0</td>\n",
       "      <td>1</td>\n",
       "      <td>12</td>\n",
       "      <td>0.007820</td>\n",
       "    </tr>\n",
       "    <tr>\n",
       "      <th>181</th>\n",
       "      <td>182</td>\n",
       "      <td>3</td>\n",
       "      <td>102</td>\n",
       "      <td>12658</td>\n",
       "      <td>29</td>\n",
       "      <td>0</td>\n",
       "      <td>0</td>\n",
       "      <td>Evening</td>\n",
       "      <td>6</td>\n",
       "      <td>26</td>\n",
       "      <td>...</td>\n",
       "      <td>1</td>\n",
       "      <td>0</td>\n",
       "      <td>1</td>\n",
       "      <td>0</td>\n",
       "      <td>0</td>\n",
       "      <td>0</td>\n",
       "      <td>0</td>\n",
       "      <td>0</td>\n",
       "      <td>5</td>\n",
       "      <td>0.004500</td>\n",
       "    </tr>\n",
       "    <tr>\n",
       "      <th>567</th>\n",
       "      <td>568</td>\n",
       "      <td>3</td>\n",
       "      <td>97</td>\n",
       "      <td>19142</td>\n",
       "      <td>25</td>\n",
       "      <td>2</td>\n",
       "      <td>0</td>\n",
       "      <td>Evening</td>\n",
       "      <td>15</td>\n",
       "      <td>6</td>\n",
       "      <td>...</td>\n",
       "      <td>0</td>\n",
       "      <td>0</td>\n",
       "      <td>0</td>\n",
       "      <td>0</td>\n",
       "      <td>0</td>\n",
       "      <td>0</td>\n",
       "      <td>0</td>\n",
       "      <td>1</td>\n",
       "      <td>12</td>\n",
       "      <td>0.002979</td>\n",
       "    </tr>\n",
       "    <tr>\n",
       "      <th>1771</th>\n",
       "      <td>1772</td>\n",
       "      <td>15</td>\n",
       "      <td>90</td>\n",
       "      <td>39774</td>\n",
       "      <td>14</td>\n",
       "      <td>3</td>\n",
       "      <td>0</td>\n",
       "      <td>Morning</td>\n",
       "      <td>15</td>\n",
       "      <td>24</td>\n",
       "      <td>...</td>\n",
       "      <td>2</td>\n",
       "      <td>0</td>\n",
       "      <td>2</td>\n",
       "      <td>0</td>\n",
       "      <td>0</td>\n",
       "      <td>0</td>\n",
       "      <td>0</td>\n",
       "      <td>0</td>\n",
       "      <td>12</td>\n",
       "      <td>0.030181</td>\n",
       "    </tr>\n",
       "    <tr>\n",
       "      <th>1489</th>\n",
       "      <td>1490</td>\n",
       "      <td>10</td>\n",
       "      <td>51</td>\n",
       "      <td>9250</td>\n",
       "      <td>46</td>\n",
       "      <td>2</td>\n",
       "      <td>0</td>\n",
       "      <td>Evening</td>\n",
       "      <td>15</td>\n",
       "      <td>13</td>\n",
       "      <td>...</td>\n",
       "      <td>1</td>\n",
       "      <td>1</td>\n",
       "      <td>3</td>\n",
       "      <td>0</td>\n",
       "      <td>0</td>\n",
       "      <td>0</td>\n",
       "      <td>0</td>\n",
       "      <td>0</td>\n",
       "      <td>12</td>\n",
       "      <td>0.000000</td>\n",
       "    </tr>\n",
       "  </tbody>\n",
       "</table>\n",
       "<p>5 rows × 22 columns</p>\n",
       "</div>\n",
       "      <button class=\"colab-df-convert\" onclick=\"convertToInteractive('df-36b40841-ff2d-491a-b803-2f03c415ce5b')\"\n",
       "              title=\"Convert this dataframe to an interactive table.\"\n",
       "              style=\"display:none;\">\n",
       "        \n",
       "  <svg xmlns=\"http://www.w3.org/2000/svg\" height=\"24px\"viewBox=\"0 0 24 24\"\n",
       "       width=\"24px\">\n",
       "    <path d=\"M0 0h24v24H0V0z\" fill=\"none\"/>\n",
       "    <path d=\"M18.56 5.44l.94 2.06.94-2.06 2.06-.94-2.06-.94-.94-2.06-.94 2.06-2.06.94zm-11 1L8.5 8.5l.94-2.06 2.06-.94-2.06-.94L8.5 2.5l-.94 2.06-2.06.94zm10 10l.94 2.06.94-2.06 2.06-.94-2.06-.94-.94-2.06-.94 2.06-2.06.94z\"/><path d=\"M17.41 7.96l-1.37-1.37c-.4-.4-.92-.59-1.43-.59-.52 0-1.04.2-1.43.59L10.3 9.45l-7.72 7.72c-.78.78-.78 2.05 0 2.83L4 21.41c.39.39.9.59 1.41.59.51 0 1.02-.2 1.41-.59l7.78-7.78 2.81-2.81c.8-.78.8-2.07 0-2.86zM5.41 20L4 18.59l7.72-7.72 1.47 1.35L5.41 20z\"/>\n",
       "  </svg>\n",
       "      </button>\n",
       "      \n",
       "  <style>\n",
       "    .colab-df-container {\n",
       "      display:flex;\n",
       "      flex-wrap:wrap;\n",
       "      gap: 12px;\n",
       "    }\n",
       "\n",
       "    .colab-df-convert {\n",
       "      background-color: #E8F0FE;\n",
       "      border: none;\n",
       "      border-radius: 50%;\n",
       "      cursor: pointer;\n",
       "      display: none;\n",
       "      fill: #1967D2;\n",
       "      height: 32px;\n",
       "      padding: 0 0 0 0;\n",
       "      width: 32px;\n",
       "    }\n",
       "\n",
       "    .colab-df-convert:hover {\n",
       "      background-color: #E2EBFA;\n",
       "      box-shadow: 0px 1px 2px rgba(60, 64, 67, 0.3), 0px 1px 3px 1px rgba(60, 64, 67, 0.15);\n",
       "      fill: #174EA6;\n",
       "    }\n",
       "\n",
       "    [theme=dark] .colab-df-convert {\n",
       "      background-color: #3B4455;\n",
       "      fill: #D2E3FC;\n",
       "    }\n",
       "\n",
       "    [theme=dark] .colab-df-convert:hover {\n",
       "      background-color: #434B5C;\n",
       "      box-shadow: 0px 1px 3px 1px rgba(0, 0, 0, 0.15);\n",
       "      filter: drop-shadow(0px 1px 2px rgba(0, 0, 0, 0.3));\n",
       "      fill: #FFFFFF;\n",
       "    }\n",
       "  </style>\n",
       "\n",
       "      <script>\n",
       "        const buttonEl =\n",
       "          document.querySelector('#df-36b40841-ff2d-491a-b803-2f03c415ce5b button.colab-df-convert');\n",
       "        buttonEl.style.display =\n",
       "          google.colab.kernel.accessAllowed ? 'block' : 'none';\n",
       "\n",
       "        async function convertToInteractive(key) {\n",
       "          const element = document.querySelector('#df-36b40841-ff2d-491a-b803-2f03c415ce5b');\n",
       "          const dataTable =\n",
       "            await google.colab.kernel.invokeFunction('convertToInteractive',\n",
       "                                                     [key], {});\n",
       "          if (!dataTable) return;\n",
       "\n",
       "          const docLinkHtml = 'Like what you see? Visit the ' +\n",
       "            '<a target=\"_blank\" href=https://colab.research.google.com/notebooks/data_table.ipynb>data table notebook</a>'\n",
       "            + ' to learn more about interactive tables.';\n",
       "          element.innerHTML = '';\n",
       "          dataTable['output_type'] = 'display_data';\n",
       "          await google.colab.output.renderOutput(dataTable, element);\n",
       "          const docLink = document.createElement('div');\n",
       "          docLink.innerHTML = docLinkHtml;\n",
       "          element.appendChild(docLink);\n",
       "        }\n",
       "      </script>\n",
       "    </div>\n",
       "  </div>\n",
       "  "
      ],
      "text/plain": [
       "      campaign_id  sender  subject_len  body_len  mean_paragraph_len  \\\n",
       "1072         1073       3           96     15629                  34   \n",
       "181           182       3          102     12658                  29   \n",
       "567           568       3           97     19142                  25   \n",
       "1771         1772      15           90     39774                  14   \n",
       "1489         1490      10           51      9250                  46   \n",
       "\n",
       "      day_of_week  is_weekend times_of_day  category  product  ...  is_image  \\\n",
       "1072            2           0      Evening        15        6  ...         2   \n",
       "181             0           0      Evening         6       26  ...         1   \n",
       "567             2           0      Evening        15        6  ...         0   \n",
       "1771            3           0      Morning        15       24  ...         2   \n",
       "1489            2           0      Evening        15       13  ...         1   \n",
       "\n",
       "      is_personalised  is_quote  is_timer  is_emoticons  is_discount  \\\n",
       "1072                0         4         0             0            0   \n",
       "181                 0         1         0             0            0   \n",
       "567                 0         0         0             0            0   \n",
       "1771                0         2         0             0            0   \n",
       "1489                1         3         0             0            0   \n",
       "\n",
       "      is_price  is_urgency  target_audience  click_rate  \n",
       "1072         0           1               12    0.007820  \n",
       "181          0           0                5    0.004500  \n",
       "567          0           1               12    0.002979  \n",
       "1771         0           0               12    0.030181  \n",
       "1489         0           0               12    0.000000  \n",
       "\n",
       "[5 rows x 22 columns]"
      ]
     },
     "execution_count": 7,
     "metadata": {},
     "output_type": "execute_result"
    }
   ],
   "source": [
    "train.sample(5)"
   ]
  },
  {
   "cell_type": "markdown",
   "metadata": {
    "id": "g5xY93EfjutS"
   },
   "source": [
    "* __We have 22 columns including target feature.__\n",
    "* __Mostly We have Numerical data, except 1 column__"
   ]
  },
  {
   "cell_type": "code",
   "execution_count": 8,
   "metadata": {
    "colab": {
     "base_uri": "https://localhost:8080/"
    },
    "id": "2g92EEyTjutT",
    "outputId": "c286d18d-c657-4df0-bf19-dda62383793b"
   },
   "outputs": [
    {
     "data": {
      "text/plain": [
       "campaign_id           0\n",
       "sender                0\n",
       "subject_len           0\n",
       "body_len              0\n",
       "mean_paragraph_len    0\n",
       "day_of_week           0\n",
       "is_weekend            0\n",
       "times_of_day          0\n",
       "category              0\n",
       "product               0\n",
       "no_of_CTA             0\n",
       "mean_CTA_len          0\n",
       "is_image              0\n",
       "is_personalised       0\n",
       "is_quote              0\n",
       "is_timer              0\n",
       "is_emoticons          0\n",
       "is_discount           0\n",
       "is_price              0\n",
       "is_urgency            0\n",
       "target_audience       0\n",
       "click_rate            0\n",
       "dtype: int64"
      ]
     },
     "execution_count": 8,
     "metadata": {},
     "output_type": "execute_result"
    }
   ],
   "source": [
    "# checking null rows in %\n",
    "train.isnull().sum()//train.shape[0]*100"
   ]
  },
  {
   "cell_type": "code",
   "execution_count": 9,
   "metadata": {
    "colab": {
     "base_uri": "https://localhost:8080/"
    },
    "id": "ZxxRTu4PjutT",
    "outputId": "61a37769-4139-4b5f-8aed-5ac5cec4a49f"
   },
   "outputs": [
    {
     "data": {
      "text/plain": [
       "campaign_id           0\n",
       "sender                0\n",
       "subject_len           0\n",
       "body_len              0\n",
       "mean_paragraph_len    0\n",
       "day_of_week           0\n",
       "is_weekend            0\n",
       "times_of_day          0\n",
       "category              0\n",
       "product               0\n",
       "no_of_CTA             0\n",
       "mean_CTA_len          0\n",
       "is_image              0\n",
       "is_personalised       0\n",
       "is_quote              0\n",
       "is_timer              0\n",
       "is_emoticons          0\n",
       "is_discount           0\n",
       "is_price              0\n",
       "is_urgency            0\n",
       "target_audience       0\n",
       "dtype: int64"
      ]
     },
     "execution_count": 9,
     "metadata": {},
     "output_type": "execute_result"
    }
   ],
   "source": [
    "test.isnull().sum()//train.shape[0]*100"
   ]
  },
  {
   "cell_type": "markdown",
   "metadata": {
    "id": "F6hWQedtjutU"
   },
   "source": [
    "* __Looks like we don't have any Empty rows in dataset__"
   ]
  },
  {
   "cell_type": "code",
   "execution_count": 10,
   "metadata": {
    "colab": {
     "base_uri": "https://localhost:8080/"
    },
    "id": "cVxNrK9ljutU",
    "outputId": "225fb721-8cf3-4770-ca75-cd86a850c509"
   },
   "outputs": [
    {
     "name": "stdout",
     "output_type": "stream",
     "text": [
      "We have 1 Categorical features in Train.\n",
      "We have 1 Categorical features in Test.\n"
     ]
    }
   ],
   "source": [
    "#Categorical data\n",
    "categorical_train = train.select_dtypes(include=np.object)\n",
    "print(f'We have {categorical_train.shape[1]} Categorical features in Train.')\n",
    "\n",
    "categorical_test = test.select_dtypes(include=np.object)\n",
    "print(f'We have {categorical_test.shape[1]} Categorical features in Test.')"
   ]
  },
  {
   "cell_type": "code",
   "execution_count": 11,
   "metadata": {
    "colab": {
     "base_uri": "https://localhost:8080/"
    },
    "id": "T4sGl0qhjutU",
    "outputId": "64df2906-815b-4036-cf20-c1f8656f7dc8"
   },
   "outputs": [
    {
     "name": "stdout",
     "output_type": "stream",
     "text": [
      "We have 21 Numerical features in Train.\n",
      "We have 20 Numerical features in Test.\n"
     ]
    }
   ],
   "source": [
    "# list of numerical features\n",
    "numerical_train = train.select_dtypes(include=[np.int64, np.float64])\n",
    "print(f'We have {numerical_train.shape[1]} Numerical features in Train.')\n",
    "\n",
    "numerical_test = test.select_dtypes(include=[np.int64, np.float64])\n",
    "print(f'We have {numerical_test.shape[1]} Numerical features in Test.')"
   ]
  },
  {
   "cell_type": "code",
   "execution_count": 12,
   "metadata": {
    "id": "GJ1aywq_jutV"
   },
   "outputs": [],
   "source": [
    "# train_nuni = (train.count() - train.nunique())/train.count()*100\n",
    "# test_nuni = (train.count() - train.nunique())/train.count()*100\n",
    "# categorical_train = train_nuni[train_nuni>=90]\n",
    "# categorical_test = test_nuni[test_nuni>=90]\n",
    "\n",
    "# numerical_train = train_nuni[train_nuni<90]\n",
    "# numerical_test = test_nuni[test_nuni<90]\n",
    "# #print(categorical)\n",
    "# print(f\"\\nWe have total {categorical_train.shape[0]} Categorical features and {numerical_train.shape[0]} Quantitative data for Training dataset\")\n",
    "# print(f\"\\nWe have total {categorical_test.shape[0]} Categorical features and {numerical_test.shape[0]} Quantitative data for testing dataset\")"
   ]
  },
  {
   "cell_type": "code",
   "execution_count": 13,
   "metadata": {
    "colab": {
     "base_uri": "https://localhost:8080/"
    },
    "id": "UqeIugRbjutV",
    "outputId": "745b19e3-5da6-4556-9718-b1fb485ac2af",
    "scrolled": false
   },
   "outputs": [
    {
     "data": {
      "text/plain": [
       "campaign_id           1888\n",
       "sender                  12\n",
       "subject_len            170\n",
       "body_len              1568\n",
       "mean_paragraph_len     121\n",
       "day_of_week              7\n",
       "is_weekend               2\n",
       "times_of_day             3\n",
       "category                16\n",
       "product                 43\n",
       "no_of_CTA               40\n",
       "mean_CTA_len            79\n",
       "is_image                 6\n",
       "is_personalised          2\n",
       "is_quote                 7\n",
       "is_timer                 1\n",
       "is_emoticons             6\n",
       "is_discount              2\n",
       "is_price                 8\n",
       "is_urgency               2\n",
       "target_audience         17\n",
       "click_rate            1810\n",
       "dtype: int64"
      ]
     },
     "execution_count": 13,
     "metadata": {},
     "output_type": "execute_result"
    }
   ],
   "source": [
    "train.nunique()"
   ]
  },
  {
   "cell_type": "code",
   "execution_count": 14,
   "metadata": {
    "colab": {
     "base_uri": "https://localhost:8080/"
    },
    "id": "zeH4xyI2jutV",
    "outputId": "e06f8660-5832-4c36-b0d5-e0e6bb933a58"
   },
   "outputs": [
    {
     "data": {
      "text/plain": [
       "0    1888\n",
       "Name: is_timer, dtype: int64"
      ]
     },
     "execution_count": 14,
     "metadata": {},
     "output_type": "execute_result"
    }
   ],
   "source": [
    "# we observe is_timer feature contain only single unique value\n",
    "# lets check\n",
    "\n",
    "train['is_timer'].value_counts()"
   ]
  },
  {
   "cell_type": "markdown",
   "metadata": {
    "id": "5ZAdfaLEjutW"
   },
   "source": [
    "* __'is_timer' contains same data, which will not help us predicting target__"
   ]
  },
  {
   "cell_type": "code",
   "execution_count": 15,
   "metadata": {
    "id": "tmm3CrFEjutW"
   },
   "outputs": [],
   "source": [
    "encoder = LabelEncoder()\n",
    "encoder.fit(train['times_of_day'])\n",
    "\n",
    "train['time_of_day_enc'] = encoder.transform(train['times_of_day'])\n",
    "test['time_of_day_enc'] = encoder.transform(test['times_of_day'])"
   ]
  },
  {
   "cell_type": "code",
   "execution_count": 16,
   "metadata": {
    "id": "tzLvJWrNjutX"
   },
   "outputs": [],
   "source": [
    "# we will drop time_of_day text field as we have created new\n",
    "new_train = train.drop(columns=['times_of_day','is_timer'])\n",
    "new_test = test.drop(columns=['times_of_day','is_timer'])"
   ]
  },
  {
   "cell_type": "markdown",
   "metadata": {
    "id": "WH60UFnbjutX"
   },
   "source": [
    "## Step 3: Exploratory Data Analysis"
   ]
  },
  {
   "cell_type": "code",
   "execution_count": 17,
   "metadata": {
    "colab": {
     "base_uri": "https://localhost:8080/"
    },
    "id": "3Cj5PCxQjutX",
    "outputId": "074c484b-a73a-43b7-822f-3f1bda0135b7",
    "scrolled": false
   },
   "outputs": [
    {
     "data": {
      "text/plain": [
       "Index(['campaign_id', 'sender', 'subject_len', 'body_len',\n",
       "       'mean_paragraph_len', 'day_of_week', 'is_weekend', 'category',\n",
       "       'product', 'no_of_CTA', 'mean_CTA_len', 'is_image', 'is_personalised',\n",
       "       'is_quote', 'is_emoticons', 'is_discount', 'is_price', 'is_urgency',\n",
       "       'target_audience', 'click_rate', 'time_of_day_enc'],\n",
       "      dtype='object')"
      ]
     },
     "execution_count": 17,
     "metadata": {},
     "output_type": "execute_result"
    }
   ],
   "source": [
    "new_train.columns"
   ]
  },
  {
   "cell_type": "code",
   "execution_count": 18,
   "metadata": {
    "colab": {
     "base_uri": "https://localhost:8080/"
    },
    "id": "RJSNN79vjutX",
    "outputId": "cf6480b8-7973-4c52-90fc-9bbd22f6974c",
    "scrolled": true
   },
   "outputs": [
    {
     "name": "stdout",
     "output_type": "stream",
     "text": [
      "0    1317\n",
      "2     447\n",
      "1     124\n",
      "Name: time_of_day_enc, dtype: int64\n",
      "********************\n",
      "0    532\n",
      "2    175\n",
      "1     55\n",
      "Name: time_of_day_enc, dtype: int64\n"
     ]
    }
   ],
   "source": [
    "print(new_train['time_of_day_enc'].value_counts())\n",
    "print('*'*20)\n",
    "print(new_test['time_of_day_enc'].value_counts())"
   ]
  },
  {
   "cell_type": "markdown",
   "metadata": {
    "id": "ynTqe3eRjutY"
   },
   "source": [
    "__Finding Correlation__"
   ]
  },
  {
   "cell_type": "code",
   "execution_count": 19,
   "metadata": {
    "colab": {
     "base_uri": "https://localhost:8080/",
     "height": 768
    },
    "id": "3PvEk6-ojutY",
    "outputId": "c1936f91-1e61-4905-f1e0-dff2945ef8e0"
   },
   "outputs": [
    {
     "data": {
      "text/plain": [
       "<matplotlib.axes._subplots.AxesSubplot at 0x7fc8fd269790>"
      ]
     },
     "execution_count": 19,
     "metadata": {},
     "output_type": "execute_result"
    },
    {
     "data": {
      "image/png": "[encoded data removed]",
      "text/plain": [
       "<Figure size 1440x936 with 2 Axes>"
      ]
     },
     "metadata": {},
     "output_type": "display_data"
    }
   ],
   "source": [
    "corr_train = new_train.corr()\n",
    "\n",
    "plt.figure(figsize=[20,13])\n",
    "sns.heatmap(corr_train, annot=True, cmap='viridis')"
   ]
  },
  {
   "cell_type": "markdown",
   "metadata": {
    "id": "MWvompmfjutY"
   },
   "source": [
    "__Correlation is high,__ \n",
    "* between no_of_CTA, body_len\n",
    "* between is_weekned, day_of_week\n",
    "\n",
    "__We will drop one of this columns, here body_len and day_of_week will drop__"
   ]
  },
  {
   "cell_type": "code",
   "execution_count": 20,
   "metadata": {
    "id": "tAoxCg1fjutY"
   },
   "outputs": [],
   "source": [
    "# FINDING CORRELATION wrt tagregt variable\n",
    "# Thanks to: https://www.kaggle.com/sid321axn/house-price-prediction-gboosting-adaboost-etc\n",
    "\n",
    "featuress = new_train.drop(columns=['click_rate','body_len','day_of_week']).columns.tolist()\n",
    "target = new_train['click_rate'].name"
   ]
  },
  {
   "cell_type": "code",
   "execution_count": 21,
   "metadata": {
    "id": "6K1EPy9tjutY"
   },
   "outputs": [],
   "source": [
    "# Finding Correlation of price woth other variables to see how many variables are strongly correlated with price\n",
    "correlations = {}\n",
    "for f in featuress:\n",
    "    data_temp = new_train[[f,target]]\n",
    "    x1 = data_temp[f].values\n",
    "    x2 = data_temp[target].values\n",
    "    key = f + ' vs ' + target\n",
    "    correlations[key] = pearsonr(x1,x2)[0]"
   ]
  },
  {
   "cell_type": "code",
   "execution_count": 22,
   "metadata": {
    "colab": {
     "base_uri": "https://localhost:8080/",
     "height": 612
    },
    "id": "5pKEAlr9jutZ",
    "outputId": "cd698033-e0ad-42ab-9ba3-2b6bbe311fb8"
   },
   "outputs": [
    {
     "data": {
      "text/plain": [
       "<matplotlib.axes._subplots.AxesSubplot at 0x7fc8efc2ad10>"
      ]
     },
     "execution_count": 22,
     "metadata": {},
     "output_type": "execute_result"
    },
    {
     "data": {
      "image/png": "[encoded data removed]",
      "text/plain": [
       "<Figure size 360x720 with 2 Axes>"
      ]
     },
     "metadata": {},
     "output_type": "display_data"
    }
   ],
   "source": [
    "# Printing all the correlated features value with respect to price which is target variable\n",
    "data_correlations = pd.DataFrame(correlations, index=['Value']).T\n",
    "data_correlations.loc[data_correlations['Value'].abs().sort_values(ascending=False).index]\n",
    "\n",
    "# plot heatmap \n",
    "plt.figure(figsize=(5,10))\n",
    "sns.heatmap(data_correlations, annot=True, cmap='viridis')"
   ]
  },
  {
   "cell_type": "code",
   "execution_count": 23,
   "metadata": {
    "id": "GWStevBXjutZ"
   },
   "outputs": [],
   "source": [
    "# campign_id is just ID col, which is not affect taregt\n",
    "# we will drop that\n",
    "# THIS WILL BE FINAL TRAIN AND TEST SETS\n",
    "# NO CHANGES WILL BE THERE AFTER THIS\n",
    "new_train = new_train.drop(columns=['campaign_id'])\n",
    "new_test = new_test.drop(columns=['campaign_id'])"
   ]
  },
  {
   "cell_type": "code",
   "execution_count": 24,
   "metadata": {
    "id": "r6SyTzMvjutZ"
   },
   "outputs": [],
   "source": [
    "# Separating input and output variables\n",
    "X= new_train.drop(columns=['click_rate'])\n",
    "y = new_train['click_rate']"
   ]
  },
  {
   "cell_type": "markdown",
   "metadata": {
    "id": "5c06Hq05jutZ"
   },
   "source": [
    "## Step 4: Model Creation\n",
    "Separating training data into train and validation "
   ]
  },
  {
   "cell_type": "code",
   "execution_count": 25,
   "metadata": {
    "id": "MMyMiRzZjutZ"
   },
   "outputs": [],
   "source": [
    "X_train, X_test, y_train, y_test = train_test_split(X,y,test_size=0.2, random_state=54)"
   ]
  },
  {
   "cell_type": "markdown",
   "metadata": {
    "id": "ipt0233PjutZ"
   },
   "source": [
    "__Scaling data with standarscaler()__"
   ]
  },
  {
   "cell_type": "code",
   "execution_count": 26,
   "metadata": {
    "id": "AQJEdB4njutZ"
   },
   "outputs": [],
   "source": [
    "scaler = StandardScaler()\n",
    "scaler.fit(X_train)\n",
    "X_train_scaled = scaler.transform(X_train)\n",
    "X_test_scaled = scaler.transform(X_test)\n",
    "test_scaled = scaler.transform(new_test)"
   ]
  },
  {
   "cell_type": "markdown",
   "metadata": {
    "id": "TQHWrPeZjutZ"
   },
   "source": [
    "__Feature Selection__<br>\n",
    "We will use Lasso Regression for Feature Selection"
   ]
  },
  {
   "cell_type": "code",
   "execution_count": 27,
   "metadata": {
    "colab": {
     "base_uri": "https://localhost:8080/"
    },
    "id": "eq8ZKfHhjuta",
    "outputId": "fb87a45c-bf30-4221-e977-5681827c5646"
   },
   "outputs": [
    {
     "data": {
      "text/plain": [
       "['sender',\n",
       " 'mean_paragraph_len',\n",
       " 'day_of_week',\n",
       " 'is_weekend',\n",
       " 'product',\n",
       " 'no_of_CTA',\n",
       " 'mean_CTA_len',\n",
       " 'is_image',\n",
       " 'is_personalised',\n",
       " 'is_quote',\n",
       " 'is_emoticons',\n",
       " 'is_discount',\n",
       " 'is_price',\n",
       " 'is_urgency',\n",
       " 'target_audience']"
      ]
     },
     "execution_count": 27,
     "metadata": {},
     "output_type": "execute_result"
    }
   ],
   "source": [
    "# feature selection\n",
    "search = GridSearchCV(Lasso(), {'alpha':[0.01,0.02, 0.024, 0.025, 0.026, 0.03]})\n",
    "search.fit(X_train_scaled, y_train)\n",
    "coef = search.best_estimator_.coef_\n",
    "features = list(np.array(X_train.columns.to_list())[coef==0])\n",
    "features"
   ]
  },
  {
   "cell_type": "code",
   "execution_count": 28,
   "metadata": {
    "id": "wFxSU8WOjuta"
   },
   "outputs": [],
   "source": [
    "features = ['body_len','day_of_week']\n",
    "X_train_feat = X_train.drop(columns=features)\n",
    "X_test_feat = X_test.drop(columns=features)"
   ]
  },
  {
   "cell_type": "code",
   "execution_count": 29,
   "metadata": {
    "id": "BZ9xnvE6juta"
   },
   "outputs": [],
   "source": [
    "# Scaling feature selection data \n",
    "scaler1 = StandardScaler()\n",
    "X_train_fs = scaler.fit_transform(X_train_feat)\n",
    "X_test_fs = scaler.transform(X_test_feat)\n",
    "test_fs = scaler.transform(new_test.drop(columns=features))"
   ]
  },
  {
   "cell_type": "code",
   "execution_count": 76,
   "metadata": {
    "id": "JnJoUDSSjuta"
   },
   "outputs": [],
   "source": [
    "# THANKS TO https://github.com/prateeknigam9/Hinglish_Classifier/blob/main/CaseStudy_Hinglish.ipynb\n",
    "\n",
    "def metric_calc(model, xtrain, ytrain, xtest, ytest):\n",
    "    \"\"\"\n",
    "    To plot the metrics and graph of regression\n",
    "    ==============================================\n",
    "    inputs:\n",
    "      model: Model selected\n",
    "      xtrain: input for train\n",
    "      ytrain: ground truth for xtrain\n",
    "      xtest: input for test\n",
    "      ytest: ground truth for xtest\n",
    "    outputs:\n",
    "      PRINT --> Metrics R2_score, MAE, MSE, RMSE for both Train and validation\n",
    "      RETURN --> Metrics for Validation\n",
    "\n",
    "    \"\"\"\n",
    "    y_pred_train = model.predict(xtrain)\n",
    "    r2_train = r2_score(ytrain,y_pred_train)\n",
    "    mae_train = mean_absolute_error(ytrain,y_pred_train)\n",
    "    mse_train = mean_squared_error(ytrain,y_pred_train)\n",
    "    rmse_train = np.sqrt(mse_train)    \n",
    "    \n",
    "    metrics_train = {}\n",
    "    metrics_train['R2_Score'] = r2_train\n",
    "    metrics_train['MAE'] = mae_train\n",
    "    metrics_train['MSE'] = mse_train\n",
    "    metrics_train['RMSE'] = rmse_train\n",
    "    \n",
    "    y_pred = model.predict(xtest)\n",
    "    r2 = r2_score(ytest,y_pred)\n",
    "    mae = mean_absolute_error(ytest,y_pred)\n",
    "    mse = mean_squared_error(ytest, y_pred)\n",
    "    rmse = np.sqrt(mse)\n",
    "    \n",
    "    metrics = {}\n",
    "    metrics['R2_Score'] = r2\n",
    "    metrics['MAE'] = mae\n",
    "    metrics['MSE'] = mse\n",
    "    metrics['RMSE'] = rmse\n",
    "\n",
    "    print(\"=\"*20,\"Model Metrics - Train\",\"=\"*20)\n",
    "    print(pd.DataFrame([metrics_train]))    \n",
    "    print(\"\\n\")\n",
    "    print(\"=\"*20,\"Model Metrics - Test\",\"=\"*20)\n",
    "    print(pd.DataFrame([metrics]))\n",
    "    \n",
    "    return metrics"
   ]
  },
  {
   "cell_type": "markdown",
   "metadata": {
    "id": "_lCWR4svjuta"
   },
   "source": [
    "#### 4.1 Linear Regression"
   ]
  },
  {
   "cell_type": "code",
   "execution_count": 31,
   "metadata": {
    "colab": {
     "base_uri": "https://localhost:8080/"
    },
    "id": "HdNABeoBjuta",
    "outputId": "f619d89c-eb2f-4af2-d8d1-9fde8cefc51c",
    "scrolled": true
   },
   "outputs": [
    {
     "name": "stdout",
     "output_type": "stream",
     "text": [
      "==================== Model Metrics - Train ====================\n",
      "   R2_Score       MAE       MSE      RMSE\n",
      "0  0.143222  0.045893  0.005924  0.076965\n",
      "\n",
      "\n",
      "==================== Model Metrics - Test ====================\n",
      "   R2_Score       MAE       MSE      RMSE\n",
      "0   0.15065  0.043637  0.006605  0.081272\n"
     ]
    }
   ],
   "source": [
    "linear_model = LinearRegression()\n",
    "linear_model.fit(X_train_scaled, y_train)\n",
    "linear_reg_metrics = metric_calc(linear_model,X_train_scaled,y_train, X_test_scaled, y_test)"
   ]
  },
  {
   "cell_type": "markdown",
   "metadata": {
    "id": "JSAZzwSqjNnG"
   },
   "source": [
    "__with feature selection__"
   ]
  },
  {
   "cell_type": "code",
   "execution_count": 32,
   "metadata": {
    "colab": {
     "base_uri": "https://localhost:8080/"
    },
    "id": "TN1DNM9ejutb",
    "outputId": "b7b31fc2-b580-4591-f5cc-50549e89a82e"
   },
   "outputs": [
    {
     "name": "stdout",
     "output_type": "stream",
     "text": [
      "==================== Model Metrics - Train ====================\n",
      "   R2_Score       MAE       MSE      RMSE\n",
      "0  0.131184  0.045891  0.006007  0.077504\n",
      "\n",
      "\n",
      "==================== Model Metrics - Test ====================\n",
      "   R2_Score       MAE       MSE      RMSE\n",
      "0   0.16636  0.042069  0.006483  0.080517\n"
     ]
    }
   ],
   "source": [
    "linear_model1 = LinearRegression()\n",
    "linear_model1.fit(X_train_fs, y_train)\n",
    "linear_reg_fs_metrics = metric_calc(linear_model1,X_train_fs,y_train, X_test_fs, y_test)"
   ]
  },
  {
   "cell_type": "markdown",
   "metadata": {
    "id": "SxEVijz_jutb"
   },
   "source": [
    "#### 4.2 Lasso Regression"
   ]
  },
  {
   "cell_type": "code",
   "execution_count": 33,
   "metadata": {
    "colab": {
     "base_uri": "https://localhost:8080/"
    },
    "id": "7QFstpRZjutb",
    "outputId": "58fca66e-db9b-4fb0-9ffd-0ed6e4e3ff2a"
   },
   "outputs": [
    {
     "data": {
      "text/plain": [
       "{'alpha': 0.001}"
      ]
     },
     "execution_count": 33,
     "metadata": {},
     "output_type": "execute_result"
    }
   ],
   "source": [
    "search = GridSearchCV(Lasso(),param_grid={'alpha':np.arange(0.001,1,0.02)})\n",
    "search.fit(X_train_scaled,y_train)\n",
    "search.best_params_"
   ]
  },
  {
   "cell_type": "code",
   "execution_count": 34,
   "metadata": {
    "colab": {
     "base_uri": "https://localhost:8080/"
    },
    "id": "NW7NPgY2jutb",
    "outputId": "6677ca15-23cc-4c96-fee0-697f6985ce17",
    "scrolled": false
   },
   "outputs": [
    {
     "name": "stdout",
     "output_type": "stream",
     "text": [
      "==================== Model Metrics - Train ====================\n",
      "   R2_Score      MAE       MSE      RMSE\n",
      "0  0.141132  0.04537  0.005938  0.077059\n",
      "\n",
      "\n",
      "==================== Model Metrics - Test ====================\n",
      "   R2_Score       MAE       MSE      RMSE\n",
      "0  0.146005  0.042938  0.006641  0.081494\n"
     ]
    }
   ],
   "source": [
    "lasso_model = Lasso(**search.best_params_)\n",
    "lasso_model.fit(X_train_scaled,y_train)\n",
    "lasso_metrics = metric_calc(lasso_model,X_train_scaled,y_train, X_test_scaled,y_test)"
   ]
  },
  {
   "cell_type": "markdown",
   "metadata": {
    "id": "NZjsoBvrjutb"
   },
   "source": [
    "__With selected features__"
   ]
  },
  {
   "cell_type": "code",
   "execution_count": 35,
   "metadata": {
    "colab": {
     "base_uri": "https://localhost:8080/"
    },
    "id": "VkafLM31jutb",
    "outputId": "65be87ab-b993-46ff-b5fe-60b398c76158"
   },
   "outputs": [
    {
     "data": {
      "text/plain": [
       "{'alpha': 0.001}"
      ]
     },
     "execution_count": 35,
     "metadata": {},
     "output_type": "execute_result"
    }
   ],
   "source": [
    "search = GridSearchCV(Lasso(),param_grid={'alpha':np.arange(0.001,1,0.02)})\n",
    "search.fit(X_train_fs,y_train)\n",
    "search.best_params_"
   ]
  },
  {
   "cell_type": "code",
   "execution_count": 36,
   "metadata": {
    "colab": {
     "base_uri": "https://localhost:8080/"
    },
    "id": "PgJ1R6rnjutb",
    "outputId": "e50014b9-3af3-4c37-f4fb-28b190cb887f"
   },
   "outputs": [
    {
     "name": "stdout",
     "output_type": "stream",
     "text": [
      "==================== Model Metrics - Train ====================\n",
      "   R2_Score       MAE      MSE      RMSE\n",
      "0   0.12921  0.045291  0.00602  0.077592\n",
      "\n",
      "\n",
      "==================== Model Metrics - Test ====================\n",
      "   R2_Score       MAE       MSE      RMSE\n",
      "0  0.162309  0.041437  0.006515  0.080713\n"
     ]
    }
   ],
   "source": [
    "lasso_model1 = Lasso(**search.best_params_)\n",
    "lasso_model1.fit(X_train_fs,y_train)\n",
    "lasso_fs_metrics = metric_calc(lasso_model1,X_train_fs,y_train,X_test_fs,y_test)"
   ]
  },
  {
   "cell_type": "markdown",
   "metadata": {
    "id": "H9I0BuVIjutb"
   },
   "source": [
    "#### 4.3 Ridge Regression"
   ]
  },
  {
   "cell_type": "code",
   "execution_count": 37,
   "metadata": {
    "colab": {
     "base_uri": "https://localhost:8080/"
    },
    "id": "2Q8r_OOsjutb",
    "outputId": "6e906335-5fdd-4931-b0f1-cb6a8a76c633"
   },
   "outputs": [
    {
     "data": {
      "text/plain": [
       "{'alpha': 0.981}"
      ]
     },
     "execution_count": 37,
     "metadata": {},
     "output_type": "execute_result"
    }
   ],
   "source": [
    "search = GridSearchCV(Ridge(),param_grid={'alpha':np.arange(0.001,1,0.02)})\n",
    "search.fit(X_train_scaled,y_train)\n",
    "search.best_params_"
   ]
  },
  {
   "cell_type": "code",
   "execution_count": 38,
   "metadata": {
    "colab": {
     "base_uri": "https://localhost:8080/"
    },
    "id": "yNCGlyrnjutc",
    "outputId": "01635be9-1887-4b34-b49e-d3cc64175922",
    "scrolled": false
   },
   "outputs": [
    {
     "name": "stdout",
     "output_type": "stream",
     "text": [
      "==================== Model Metrics - Train ====================\n",
      "   R2_Score      MAE       MSE      RMSE\n",
      "0  0.143222  0.04589  0.005924  0.076965\n",
      "\n",
      "\n",
      "==================== Model Metrics - Test ====================\n",
      "   R2_Score       MAE       MSE      RMSE\n",
      "0  0.150664  0.043632  0.006605  0.081272\n"
     ]
    }
   ],
   "source": [
    "ridge_model = Ridge(**search.best_params_)\n",
    "ridge_model.fit(X_train_scaled, y_train)\n",
    "ridge_metrics = metric_calc(ridge_model,X_train_scaled,y_train,X_test_scaled,y_test)"
   ]
  },
  {
   "cell_type": "markdown",
   "metadata": {
    "id": "gvlsgbrzjutc"
   },
   "source": [
    "__With Selected Features__"
   ]
  },
  {
   "cell_type": "code",
   "execution_count": 39,
   "metadata": {
    "colab": {
     "base_uri": "https://localhost:8080/"
    },
    "id": "-9wT8yaIjutc",
    "outputId": "52c9aa7c-f028-41e6-f391-3c8852a77c7a"
   },
   "outputs": [
    {
     "data": {
      "text/plain": [
       "{'alpha': 0.981}"
      ]
     },
     "execution_count": 39,
     "metadata": {},
     "output_type": "execute_result"
    }
   ],
   "source": [
    "search = GridSearchCV(Ridge(),param_grid={'alpha':np.arange(0.001,1,0.02)})\n",
    "search.fit(X_train_fs,y_train)\n",
    "search.best_params_"
   ]
  },
  {
   "cell_type": "code",
   "execution_count": 40,
   "metadata": {
    "colab": {
     "base_uri": "https://localhost:8080/"
    },
    "id": "f__TC6u2jutc",
    "outputId": "374cfd11-33e3-4281-8ca5-e0c2f8973aca"
   },
   "outputs": [
    {
     "name": "stdout",
     "output_type": "stream",
     "text": [
      "==================== Model Metrics - Train ====================\n",
      "   R2_Score       MAE       MSE      RMSE\n",
      "0  0.131184  0.045888  0.006007  0.077504\n",
      "\n",
      "\n",
      "==================== Model Metrics - Test ====================\n",
      "   R2_Score       MAE       MSE      RMSE\n",
      "0   0.16634  0.042066  0.006483  0.080518\n"
     ]
    }
   ],
   "source": [
    "ridge_model1 = Ridge(**search.best_params_)\n",
    "ridge_model1.fit(X_train_fs, y_train)\n",
    "ridge_fs_metrics = metric_calc(ridge_model1,X_train_fs,y_train,X_test_fs,y_test)"
   ]
  },
  {
   "cell_type": "markdown",
   "metadata": {
    "id": "013dyOdejutc"
   },
   "source": [
    "#### 4.4 SVR"
   ]
  },
  {
   "cell_type": "code",
   "execution_count": 41,
   "metadata": {
    "id": "Ujg_Zf3Xjutc"
   },
   "outputs": [],
   "source": [
    "# From here most of the Gridsearchcv code is commented\n",
    "#as it takes long time to run\n",
    "\n",
    "# search = GridSearchCV(SVR(),param_grid={'kernel':['rbf','poly'],'degree':np.arange(1,5,1)\n",
    "#                                         ,'epsilon':np.arange(0.01,1,0.02),'C':np.arange(0.1,3,0.5)})\n",
    "# search.fit(X_train_scaled,y_train)\n",
    "# search.best_params_"
   ]
  },
  {
   "cell_type": "code",
   "execution_count": 42,
   "metadata": {
    "colab": {
     "base_uri": "https://localhost:8080/"
    },
    "id": "g1Ve-R1bjutc",
    "outputId": "4835d203-6789-4607-c863-bbf2066f7d7c"
   },
   "outputs": [
    {
     "name": "stdout",
     "output_type": "stream",
     "text": [
      "==================== Model Metrics - Train ====================\n",
      "   R2_Score       MAE       MSE      RMSE\n",
      "0  0.598878  0.021135  0.002773  0.052662\n",
      "\n",
      "\n",
      "==================== Model Metrics - Test ====================\n",
      "   R2_Score       MAE       MSE      RMSE\n",
      "0  0.449958  0.034678  0.004278  0.065403\n"
     ]
    }
   ],
   "source": [
    "svr_model = SVR(C=1.1,epsilon=0.01, kernel='rbf')\n",
    "svr_model.fit(X_train_scaled,y_train)\n",
    "svr_metrics = metric_calc(svr_model,X_train_scaled,y_train,X_test_scaled,y_test)"
   ]
  },
  {
   "cell_type": "markdown",
   "metadata": {
    "id": "M-LtMugDjutd"
   },
   "source": [
    "__With Feature selection__"
   ]
  },
  {
   "cell_type": "code",
   "execution_count": 43,
   "metadata": {
    "id": "fjkHlgUGjutd"
   },
   "outputs": [],
   "source": [
    "# search = GridSearchCV(SVR(),param_grid={'kernel':['rbf','poly'],'degree':np.arange(1,5,1)\n",
    "#                                         ,'epsilon':np.arange(0.01,1,0.02),'C':np.arange(0.1,3,0.5)})\n",
    "# search.fit(X_train_fs,y_train)\n",
    "# search.best_params_"
   ]
  },
  {
   "cell_type": "code",
   "execution_count": 44,
   "metadata": {
    "colab": {
     "base_uri": "https://localhost:8080/"
    },
    "id": "gKVIx365jutd",
    "outputId": "52498df2-90d7-4373-c42e-f562c215683e"
   },
   "outputs": [
    {
     "name": "stdout",
     "output_type": "stream",
     "text": [
      "==================== Model Metrics - Train ====================\n",
      "   R2_Score       MAE       MSE      RMSE\n",
      "0  0.530036  0.023329  0.003249  0.057002\n",
      "\n",
      "\n",
      "==================== Model Metrics - Test ====================\n",
      "   R2_Score       MAE       MSE      RMSE\n",
      "0  0.382114  0.035214  0.004805  0.069319\n"
     ]
    }
   ],
   "source": [
    "svr_model1 = SVR(C=1.1,epsilon=0.01, kernel='rbf')\n",
    "svr_model1.fit(X_train_fs,y_train)\n",
    "svr_fs_metrics = metric_calc(svr_model1,X_train_fs,y_train,X_test_fs,y_test)"
   ]
  },
  {
   "cell_type": "markdown",
   "metadata": {
    "id": "EC9pHKcnjutd"
   },
   "source": [
    "#### 4.5 DecisionTree Regressor"
   ]
  },
  {
   "cell_type": "code",
   "execution_count": 45,
   "metadata": {
    "id": "HdZywyuCjutd"
   },
   "outputs": [],
   "source": [
    "# search = GridSearchCV(DecisionTreeRegressor(),param_grid={'splitter':[\"best\",\"random\"],'max_depth':np.arange(1,32,1)\n",
    "#                                         ,'min_samples_leaf':np.arange(1,10,1),'max_features':[\"auto\",\"log2\",\"sqrt\",None],\n",
    "#                                             'random_state':[100]}, cv=5)\n",
    "# search.fit(X_train_scaled,y_train)\n",
    "# search.best_params_"
   ]
  },
  {
   "cell_type": "code",
   "execution_count": 46,
   "metadata": {
    "colab": {
     "base_uri": "https://localhost:8080/"
    },
    "id": "YjLo4xeSjutd",
    "outputId": "748a7562-25de-4887-fec2-3cf8e20e9c98",
    "scrolled": false
   },
   "outputs": [
    {
     "name": "stdout",
     "output_type": "stream",
     "text": [
      "==================== Model Metrics - Train ====================\n",
      "   R2_Score       MAE       MSE      RMSE\n",
      "0    0.4686  0.026133  0.003674  0.060614\n",
      "\n",
      "\n",
      "==================== Model Metrics - Test ====================\n",
      "   R2_Score       MAE       MSE      RMSE\n",
      "0  0.207457  0.032961  0.006163  0.078507\n"
     ]
    }
   ],
   "source": [
    "dtr_model = DecisionTreeRegressor(criterion='absolute_error',max_depth=14,max_features='log2',min_samples_leaf=9,random_state=100, splitter='best')\n",
    "dtr_model.fit(X_train_scaled,y_train)\n",
    "dtr_metrics = metric_calc(dtr_model,X_train_scaled,y_train,X_test_scaled,y_test)"
   ]
  },
  {
   "cell_type": "markdown",
   "metadata": {
    "id": "G_Xtb8F7jutd"
   },
   "source": [
    "__With Feature Selection__"
   ]
  },
  {
   "cell_type": "code",
   "execution_count": 47,
   "metadata": {
    "id": "8W36eZ1Yjutd"
   },
   "outputs": [],
   "source": [
    "# search = GridSearchCV(DecisionTreeRegressor(),param_grid={'splitter':[\"best\",\"random\"],'max_depth':np.arange(1,32,1)\n",
    "#                                                 ,'criterion':['squared_error', 'absolute_error'],\n",
    "#                                         'min_samples_leaf':np.arange(1,10,1),'max_features':[\"auto\",\"log2\",\"sqrt\",None],\n",
    "#                                             'random_state':[100]}, cv=5)\n",
    "# search.fit(X_train_fs,y_train)\n",
    "# search.best_params_"
   ]
  },
  {
   "cell_type": "code",
   "execution_count": 48,
   "metadata": {
    "colab": {
     "base_uri": "https://localhost:8080/"
    },
    "id": "yIb87iwXjute",
    "outputId": "de606fca-a151-43cf-dbde-9d45f760f2c3"
   },
   "outputs": [
    {
     "name": "stdout",
     "output_type": "stream",
     "text": [
      "==================== Model Metrics - Train ====================\n",
      "   R2_Score       MAE       MSE      RMSE\n",
      "0  0.534579  0.021601  0.003218  0.056726\n",
      "\n",
      "\n",
      "==================== Model Metrics - Test ====================\n",
      "   R2_Score       MAE       MSE      RMSE\n",
      "0  0.223228  0.027973  0.006041  0.077722\n"
     ]
    }
   ],
   "source": [
    "dtr_model1 = DecisionTreeRegressor(criterion='absolute_error',max_depth=9,max_features='auto',min_samples_leaf=2,random_state=100, splitter='best')\n",
    "dtr_model1.fit(X_train_fs,y_train)\n",
    "dtr_fs_metrics = metric_calc(dtr_model1,X_train_fs,y_train,X_test_fs,y_test)"
   ]
  },
  {
   "cell_type": "markdown",
   "metadata": {
    "id": "HNK5KNdyjute"
   },
   "source": [
    "#### 4.6 RandomForest Regressor"
   ]
  },
  {
   "cell_type": "code",
   "execution_count": 49,
   "metadata": {
    "id": "8Nz9gA4cjute"
   },
   "outputs": [],
   "source": [
    "# search = GridSearchCV(RandomForestRegressor(),param_grid={'n_estimators':[100,500,1000],'max_depth':np.arange(8,32,1),\n",
    "#                                             'min_samples_leaf':np.arange(0.01,1.0,0.05),\n",
    "#                                             'random_state':[100]}, cv=5)\n",
    "# search.fit(X_train_fs,y_train)\n",
    "# search.best_params_"
   ]
  },
  {
   "cell_type": "code",
   "execution_count": 50,
   "metadata": {
    "colab": {
     "base_uri": "https://localhost:8080/"
    },
    "id": "3c8v_A7ojute",
    "outputId": "afd87e93-45f0-47ca-d1b9-7a2e3fa97d6e"
   },
   "outputs": [
    {
     "name": "stdout",
     "output_type": "stream",
     "text": [
      "==================== Model Metrics - Train ====================\n",
      "   R2_Score       MAE       MSE     RMSE\n",
      "0  0.869303  0.015114  0.000904  0.03006\n",
      "\n",
      "\n",
      "==================== Model Metrics - Test ====================\n",
      "   R2_Score       MAE       MSE      RMSE\n",
      "0  0.507766  0.030231  0.003828  0.061871\n"
     ]
    }
   ],
   "source": [
    "rf_model = RandomForestRegressor(n_estimators=1000, min_samples_leaf=0.001,max_depth=32,random_state=100)\n",
    "rf_model.fit(X_train_scaled,y_train)\n",
    "rf_model = metric_calc(rf_model,X_train_scaled,y_train,X_test_scaled,y_test)"
   ]
  },
  {
   "cell_type": "markdown",
   "metadata": {
    "id": "g1zmOFVkjute"
   },
   "source": [
    "__with feature selection__"
   ]
  },
  {
   "cell_type": "code",
   "execution_count": 51,
   "metadata": {
    "id": "HlHpXxRSjute"
   },
   "outputs": [],
   "source": [
    "# search = GridSearchCV(RandomForestRegressor(),param_grid={'n_estimators':[50,100,150,200,500,1000],'max_depth':np.arange(8,32,1),\n",
    "#                                             'min_samples_leaf':np.arange(1,10,1),'max_features':[\"auto\",\"log2\",\"sqrt\",None],\n",
    "#                                             'random_state':[100]}, cv=5)\n",
    "# search.fit(X_train_fs,y_train)\n",
    "# search.best_params_"
   ]
  },
  {
   "cell_type": "code",
   "execution_count": 52,
   "metadata": {
    "colab": {
     "base_uri": "https://localhost:8080/"
    },
    "id": "FErw6kXOjute",
    "outputId": "9079dc86-9bb0-4248-dfd5-b083d9074692"
   },
   "outputs": [
    {
     "name": "stdout",
     "output_type": "stream",
     "text": [
      "==================== Model Metrics - Train ====================\n",
      "   R2_Score       MAE       MSE      RMSE\n",
      "0   0.83298  0.016744  0.001155  0.033982\n",
      "\n",
      "\n",
      "==================== Model Metrics - Test ====================\n",
      "   R2_Score      MAE       MSE      RMSE\n",
      "0  0.486034  0.03103  0.003997  0.063222\n"
     ]
    }
   ],
   "source": [
    "rf_model1 = RandomForestRegressor(n_estimators=1000, min_samples_leaf=0.001,max_depth=32,random_state=100)\n",
    "rf_model1.fit(X_train_fs,y_train)\n",
    "rf_fs_model = metric_calc(rf_model1,X_train_fs,y_train,X_test_fs,y_test)"
   ]
  },
  {
   "cell_type": "markdown",
   "metadata": {
    "id": "YQlj4bGkjutf"
   },
   "source": [
    "#### 4.7 AdaBoosting Regressor"
   ]
  },
  {
   "cell_type": "code",
   "execution_count": 51,
   "metadata": {
    "id": "CdpQGoh5jutf"
   },
   "outputs": [],
   "source": [
    "# search = GridSearchCV(AdaBoostRegressor(),param_grid={#'n_estimators':[50,100,150,200,500,1000],\n",
    "#                                             'learning_rate':np.arange(0.001,1,0.3),\n",
    "#                                             'random_state':[100]}, cv=5)\n",
    "# search.fit(X_train_scaled,y_train)\n",
    "# search.best_params_"
   ]
  },
  {
   "cell_type": "code",
   "execution_count": 58,
   "metadata": {
    "colab": {
     "base_uri": "https://localhost:8080/"
    },
    "id": "cQMK-Wa1jutf",
    "outputId": "e5482c04-b6b4-4263-c892-2d62b296f871",
    "scrolled": true
   },
   "outputs": [
    {
     "name": "stdout",
     "output_type": "stream",
     "text": [
      "==================== Model Metrics - Train ====================\n",
      "   R2_Score       MAE       MSE      RMSE\n",
      "0  0.938841  0.011471  0.000423  0.020563\n",
      "\n",
      "\n",
      "==================== Model Metrics - Test ====================\n",
      "   R2_Score       MAE       MSE      RMSE\n",
      "0  0.552317  0.030299  0.003482  0.059004\n"
     ]
    }
   ],
   "source": [
    "adboost_model = AdaBoostRegressor(base_estimator=RandomForestRegressor(),  n_estimators=500, learning_rate=0.001, random_state=100)\n",
    "adboost_model.fit(X_train_scaled,y_train)\n",
    "adboost_metrics = metric_calc(adboost_model,X_train_scaled,y_train,X_test_scaled,y_test)"
   ]
  },
  {
   "cell_type": "markdown",
   "metadata": {
    "id": "ZD5kvms2jutf"
   },
   "source": [
    "__with feature selection__"
   ]
  },
  {
   "cell_type": "code",
   "execution_count": 59,
   "metadata": {
    "colab": {
     "base_uri": "https://localhost:8080/"
    },
    "id": "iWDf0R94jutf",
    "outputId": "e0b7100c-419f-436a-d74d-7a3dfba5b042",
    "scrolled": true
   },
   "outputs": [
    {
     "name": "stdout",
     "output_type": "stream",
     "text": [
      "==================== Model Metrics - Train ====================\n",
      "   R2_Score       MAE       MSE      RMSE\n",
      "0  0.927059  0.012478  0.000504  0.022457\n",
      "\n",
      "\n",
      "==================== Model Metrics - Test ====================\n",
      "   R2_Score       MAE       MSE      RMSE\n",
      "0  0.550983  0.030853  0.003492  0.059092\n"
     ]
    }
   ],
   "source": [
    "adboost_model1 = AdaBoostRegressor(base_estimator=RandomForestRegressor(),  n_estimators=500, learning_rate=0.001, random_state=100)\n",
    "adboost_model1.fit(X_train_fs,y_train)\n",
    "adboost_fs_metrics = metric_calc(adboost_model1,X_train_fs,y_train,X_test_fs,y_test)"
   ]
  },
  {
   "cell_type": "markdown",
   "metadata": {
    "id": "74e_x-AHjutf"
   },
   "source": [
    "#### 4.8 Gradient Boosting Regressor"
   ]
  },
  {
   "cell_type": "code",
   "execution_count": 53,
   "metadata": {
    "id": "s6m2XJh8jutf"
   },
   "outputs": [],
   "source": [
    "# search = GridSearchCV(GradientBoostingRegressor(),param_grid={#'n_estimators':[500],\n",
    "#                                             'learning_rate':np.arange(0.001,1,0.3),\n",
    "#                                             'random_state':[100],'criterion':['friedman_mse','squared_error'],\n",
    "#                                             'min_samples_split':np.arange(0.01,1,0.005)},\n",
    "#                                           cv=5)\n",
    "# search.fit(X_train_scaled,y_train)\n",
    "# search.best_params_"
   ]
  },
  {
   "cell_type": "code",
   "execution_count": 54,
   "metadata": {
    "colab": {
     "base_uri": "https://localhost:8080/"
    },
    "id": "L9YriiEGjutf",
    "outputId": "ba257c32-e0b5-4463-b28f-92035eaf99e4"
   },
   "outputs": [
    {
     "name": "stdout",
     "output_type": "stream",
     "text": [
      "==================== Model Metrics - Train ====================\n",
      "   R2_Score       MAE       MSE      RMSE\n",
      "0  0.785658  0.024211  0.001482  0.038496\n",
      "\n",
      "\n",
      "==================== Model Metrics - Test ====================\n",
      "   R2_Score       MAE      MSE      RMSE\n",
      "0  0.501084  0.035593  0.00388  0.062289\n"
     ]
    }
   ],
   "source": [
    "gbdt_model = GradientBoostingRegressor(n_estimators=160,learning_rate=0.301,min_samples_split=0.209996,criterion='friedman_mse',random_state=100)\n",
    "gbdt_model.fit(X_train_scaled,y_train)\n",
    "gbdt_metrics = metric_calc(gbdt_model,X_train_scaled,y_train,X_test_scaled,y_test)"
   ]
  },
  {
   "cell_type": "markdown",
   "metadata": {
    "id": "yZznKXSMjutg"
   },
   "source": [
    "__with feature selection__"
   ]
  },
  {
   "cell_type": "code",
   "execution_count": 55,
   "metadata": {
    "colab": {
     "base_uri": "https://localhost:8080/"
    },
    "id": "JwCO1W0Njutg",
    "outputId": "0767121c-96ad-48b6-d684-e080039ed235",
    "scrolled": true
   },
   "outputs": [
    {
     "name": "stdout",
     "output_type": "stream",
     "text": [
      "==================== Model Metrics - Train ====================\n",
      "   R2_Score       MAE       MSE      RMSE\n",
      "0    0.6706  0.029279  0.002277  0.047722\n",
      "\n",
      "\n",
      "==================== Model Metrics - Test ====================\n",
      "   R2_Score       MAE       MSE    RMSE\n",
      "0  0.558436  0.036203  0.003434  0.0586\n"
     ]
    }
   ],
   "source": [
    "gbdt_model1 = GradientBoostingRegressor(n_estimators=160,learning_rate=0.311,min_samples_split=0.209996,criterion='friedman_mse',random_state=100)\n",
    "gbdt_model1.fit(X_train_fs,y_train)\n",
    "gbdt_fs_metrics = metric_calc(gbdt_model1,X_train_fs,y_train,X_test_fs,y_test)"
   ]
  },
  {
   "cell_type": "markdown",
   "metadata": {
    "id": "dkAWb65tjutg"
   },
   "source": [
    "#### 4.9 Xgboost Regressor"
   ]
  },
  {
   "cell_type": "code",
   "execution_count": 77,
   "metadata": {
    "id": "TKlNWR3xjutg"
   },
   "outputs": [],
   "source": [
    "# search = GridSearchCV(XGBRegressor(),param_grid={#'n_estimators':[50,100,150,200,500,1000],\n",
    "#                                             'learning_rate':np.arange(0.001,1,0.3),\n",
    "#                                             'random_state':[100],'criterion':['friedman_mse','squared_error'],\n",
    "#                                             'min_samples_split':np.arange(0.01,1,0.005),'max_depth':np.arange(8,32,1)},\n",
    "#                                           cv=5)\n",
    "# search.fit(X_train_scaled,y_train)\n",
    "# search.best_params_"
   ]
  },
  {
   "cell_type": "code",
   "execution_count": 56,
   "metadata": {
    "colab": {
     "base_uri": "https://localhost:8080/"
    },
    "id": "ib3DYegWjutg",
    "outputId": "52f70efd-75c8-4885-ae2c-71cf189c7136",
    "scrolled": false
   },
   "outputs": [
    {
     "name": "stdout",
     "output_type": "stream",
     "text": [
      "[12:56:36] WARNING: /workspace/src/objective/regression_obj.cu:152: reg:linear is now deprecated in favor of reg:squarederror.\n",
      "==================== Model Metrics - Train ====================\n",
      "   R2_Score       MAE           MSE      RMSE\n",
      "0   0.99994  0.000443  4.130856e-07  0.000643\n",
      "\n",
      "\n",
      "==================== Model Metrics - Test ====================\n",
      "   R2_Score      MAE       MSE      RMSE\n",
      "0  0.617749  0.02921  0.002973  0.054522\n"
     ]
    }
   ],
   "source": [
    "xgb_model = XGBRegressor(n_estimators=1000, max_depth=8, eta=0.315,subsample=0.7,colsample_bytree=0.8)\n",
    "xgb_model.fit(X_train_scaled,y_train)\n",
    "xgb_metrics = metric_calc(xgb_model,X_train_scaled,y_train,X_test_scaled,y_test)"
   ]
  },
  {
   "cell_type": "code",
   "execution_count": 57,
   "metadata": {
    "colab": {
     "base_uri": "https://localhost:8080/"
    },
    "id": "HLAn549Ujutg",
    "outputId": "41b79519-91ac-4720-c07f-59d8f596c726",
    "scrolled": true
   },
   "outputs": [
    {
     "name": "stdout",
     "output_type": "stream",
     "text": [
      "[12:56:44] WARNING: /workspace/src/objective/regression_obj.cu:152: reg:linear is now deprecated in favor of reg:squarederror.\n",
      "==================== Model Metrics - Train ====================\n",
      "   R2_Score       MAE       MSE      RMSE\n",
      "0  0.995852  0.001262  0.000029  0.005355\n",
      "\n",
      "\n",
      "==================== Model Metrics - Test ====================\n",
      "   R2_Score       MAE      MSE      RMSE\n",
      "0  0.555144  0.031098  0.00346  0.058818\n"
     ]
    }
   ],
   "source": [
    "xgb_model1 = XGBRegressor(n_estimators=1000, max_depth=8, eta=0.3, subsample=0.7, colsample_bytree=0.8)\n",
    "xgb_model1.fit(X_train_fs,y_train)\n",
    "xgb_fs_metrics = metric_calc(xgb_model1,X_train_fs,y_train,X_test_fs,y_test)"
   ]
  },
  {
   "cell_type": "markdown",
   "metadata": {
    "id": "PoTzBIHZjutg"
   },
   "source": [
    "### Model Analysis\n",
    "As we have tried to fit our dataset with various models, its time to take look on metrics for selecting best among them. <br>\n",
    "We will be focusing more on __RMSE__, if RMSE is low, better the model. "
   ]
  },
  {
   "cell_type": "code",
   "execution_count": 60,
   "metadata": {
    "id": "2uFT2hD9juth"
   },
   "outputs": [],
   "source": [
    "models_indx = ['Linear Regression','Lasso Regression','Ridge Regression','SVR','DecisionTree Regressor',\n",
    "               'RandomForest Regressor','AdaBoost Regressor','GBDT Regressor','XGBoost Regressor']\n",
    "\n",
    "ML_Comparison = pd.DataFrame([linear_reg_metrics,lasso_metrics,ridge_metrics,svr_metrics,dtr_metrics,\n",
    "                             rf_model,adboost_metrics,gbdt_metrics,xgb_metrics], \n",
    "                             index=models_indx)"
   ]
  },
  {
   "cell_type": "code",
   "execution_count": 61,
   "metadata": {
    "id": "HletCU4kjuth"
   },
   "outputs": [],
   "source": [
    "models_indx = ['Linear Regression(FS)','Lasso Regression(FS)','Ridge Regression(FS)','SVR(FS)','DecisionTree Regressor(FS)',\n",
    "               'RandomForest Regressor(FS)','AdaBoost Regressor(FS)','GBDT Regressor(FS)','XGBoost Regressor(FS)']\n",
    "\n",
    "ML_Comparison1 = pd.DataFrame([linear_reg_fs_metrics,lasso_fs_metrics,ridge_fs_metrics,svr_fs_metrics,dtr_fs_metrics,\n",
    "                             rf_fs_model,adboost_fs_metrics,gbdt_fs_metrics,xgb_fs_metrics], \n",
    "                             index=models_indx)"
   ]
  },
  {
   "cell_type": "code",
   "execution_count": 67,
   "metadata": {
    "colab": {
     "base_uri": "https://localhost:8080/",
     "height": 614
    },
    "id": "1LrEixMCRgef",
    "outputId": "34d91a3c-9a7e-4312-976e-266cef8b5dab"
   },
   "outputs": [
    {
     "data": {
      "text/html": [
       "\n",
       "  <div id=\"df-e0a39779-561a-4d4c-a9c4-240d04c750e0\">\n",
       "    <div class=\"colab-df-container\">\n",
       "      <div>\n",
       "<style scoped>\n",
       "    .dataframe tbody tr th:only-of-type {\n",
       "        vertical-align: middle;\n",
       "    }\n",
       "\n",
       "    .dataframe tbody tr th {\n",
       "        vertical-align: top;\n",
       "    }\n",
       "\n",
       "    .dataframe thead th {\n",
       "        text-align: right;\n",
       "    }\n",
       "</style>\n",
       "<table border=\"1\" class=\"dataframe\">\n",
       "  <thead>\n",
       "    <tr style=\"text-align: right;\">\n",
       "      <th></th>\n",
       "      <th>R2_Score</th>\n",
       "      <th>MAE</th>\n",
       "      <th>MSE</th>\n",
       "      <th>RMSE</th>\n",
       "    </tr>\n",
       "  </thead>\n",
       "  <tbody>\n",
       "    <tr>\n",
       "      <th>XGBoost Regressor</th>\n",
       "      <td>0.617749</td>\n",
       "      <td>0.029210</td>\n",
       "      <td>0.002973</td>\n",
       "      <td>0.054522</td>\n",
       "    </tr>\n",
       "    <tr>\n",
       "      <th>GBDT Regressor(FS)</th>\n",
       "      <td>0.558436</td>\n",
       "      <td>0.036203</td>\n",
       "      <td>0.003434</td>\n",
       "      <td>0.058600</td>\n",
       "    </tr>\n",
       "    <tr>\n",
       "      <th>XGBoost Regressor(FS)</th>\n",
       "      <td>0.555144</td>\n",
       "      <td>0.031098</td>\n",
       "      <td>0.003460</td>\n",
       "      <td>0.058818</td>\n",
       "    </tr>\n",
       "    <tr>\n",
       "      <th>AdaBoost Regressor</th>\n",
       "      <td>0.552317</td>\n",
       "      <td>0.030299</td>\n",
       "      <td>0.003482</td>\n",
       "      <td>0.059004</td>\n",
       "    </tr>\n",
       "    <tr>\n",
       "      <th>AdaBoost Regressor(FS)</th>\n",
       "      <td>0.550983</td>\n",
       "      <td>0.030853</td>\n",
       "      <td>0.003492</td>\n",
       "      <td>0.059092</td>\n",
       "    </tr>\n",
       "    <tr>\n",
       "      <th>RandomForest Regressor</th>\n",
       "      <td>0.507766</td>\n",
       "      <td>0.030231</td>\n",
       "      <td>0.003828</td>\n",
       "      <td>0.061871</td>\n",
       "    </tr>\n",
       "    <tr>\n",
       "      <th>GBDT Regressor</th>\n",
       "      <td>0.501084</td>\n",
       "      <td>0.035593</td>\n",
       "      <td>0.003880</td>\n",
       "      <td>0.062289</td>\n",
       "    </tr>\n",
       "    <tr>\n",
       "      <th>RandomForest Regressor(FS)</th>\n",
       "      <td>0.486034</td>\n",
       "      <td>0.031030</td>\n",
       "      <td>0.003997</td>\n",
       "      <td>0.063222</td>\n",
       "    </tr>\n",
       "    <tr>\n",
       "      <th>SVR</th>\n",
       "      <td>0.449958</td>\n",
       "      <td>0.034678</td>\n",
       "      <td>0.004278</td>\n",
       "      <td>0.065403</td>\n",
       "    </tr>\n",
       "    <tr>\n",
       "      <th>SVR(FS)</th>\n",
       "      <td>0.382114</td>\n",
       "      <td>0.035214</td>\n",
       "      <td>0.004805</td>\n",
       "      <td>0.069319</td>\n",
       "    </tr>\n",
       "    <tr>\n",
       "      <th>DecisionTree Regressor(FS)</th>\n",
       "      <td>0.223228</td>\n",
       "      <td>0.027973</td>\n",
       "      <td>0.006041</td>\n",
       "      <td>0.077722</td>\n",
       "    </tr>\n",
       "    <tr>\n",
       "      <th>DecisionTree Regressor</th>\n",
       "      <td>0.207457</td>\n",
       "      <td>0.032961</td>\n",
       "      <td>0.006163</td>\n",
       "      <td>0.078507</td>\n",
       "    </tr>\n",
       "    <tr>\n",
       "      <th>Linear Regression(FS)</th>\n",
       "      <td>0.166360</td>\n",
       "      <td>0.042069</td>\n",
       "      <td>0.006483</td>\n",
       "      <td>0.080517</td>\n",
       "    </tr>\n",
       "    <tr>\n",
       "      <th>Ridge Regression(FS)</th>\n",
       "      <td>0.166340</td>\n",
       "      <td>0.042066</td>\n",
       "      <td>0.006483</td>\n",
       "      <td>0.080518</td>\n",
       "    </tr>\n",
       "    <tr>\n",
       "      <th>Lasso Regression(FS)</th>\n",
       "      <td>0.162309</td>\n",
       "      <td>0.041437</td>\n",
       "      <td>0.006515</td>\n",
       "      <td>0.080713</td>\n",
       "    </tr>\n",
       "    <tr>\n",
       "      <th>Ridge Regression</th>\n",
       "      <td>0.150664</td>\n",
       "      <td>0.043632</td>\n",
       "      <td>0.006605</td>\n",
       "      <td>0.081272</td>\n",
       "    </tr>\n",
       "    <tr>\n",
       "      <th>Linear Regression</th>\n",
       "      <td>0.150650</td>\n",
       "      <td>0.043637</td>\n",
       "      <td>0.006605</td>\n",
       "      <td>0.081272</td>\n",
       "    </tr>\n",
       "    <tr>\n",
       "      <th>Lasso Regression</th>\n",
       "      <td>0.146005</td>\n",
       "      <td>0.042938</td>\n",
       "      <td>0.006641</td>\n",
       "      <td>0.081494</td>\n",
       "    </tr>\n",
       "  </tbody>\n",
       "</table>\n",
       "</div>\n",
       "      <button class=\"colab-df-convert\" onclick=\"convertToInteractive('df-e0a39779-561a-4d4c-a9c4-240d04c750e0')\"\n",
       "              title=\"Convert this dataframe to an interactive table.\"\n",
       "              style=\"display:none;\">\n",
       "        \n",
       "  <svg xmlns=\"http://www.w3.org/2000/svg\" height=\"24px\"viewBox=\"0 0 24 24\"\n",
       "       width=\"24px\">\n",
       "    <path d=\"M0 0h24v24H0V0z\" fill=\"none\"/>\n",
       "    <path d=\"M18.56 5.44l.94 2.06.94-2.06 2.06-.94-2.06-.94-.94-2.06-.94 2.06-2.06.94zm-11 1L8.5 8.5l.94-2.06 2.06-.94-2.06-.94L8.5 2.5l-.94 2.06-2.06.94zm10 10l.94 2.06.94-2.06 2.06-.94-2.06-.94-.94-2.06-.94 2.06-2.06.94z\"/><path d=\"M17.41 7.96l-1.37-1.37c-.4-.4-.92-.59-1.43-.59-.52 0-1.04.2-1.43.59L10.3 9.45l-7.72 7.72c-.78.78-.78 2.05 0 2.83L4 21.41c.39.39.9.59 1.41.59.51 0 1.02-.2 1.41-.59l7.78-7.78 2.81-2.81c.8-.78.8-2.07 0-2.86zM5.41 20L4 18.59l7.72-7.72 1.47 1.35L5.41 20z\"/>\n",
       "  </svg>\n",
       "      </button>\n",
       "      \n",
       "  <style>\n",
       "    .colab-df-container {\n",
       "      display:flex;\n",
       "      flex-wrap:wrap;\n",
       "      gap: 12px;\n",
       "    }\n",
       "\n",
       "    .colab-df-convert {\n",
       "      background-color: #E8F0FE;\n",
       "      border: none;\n",
       "      border-radius: 50%;\n",
       "      cursor: pointer;\n",
       "      display: none;\n",
       "      fill: #1967D2;\n",
       "      height: 32px;\n",
       "      padding: 0 0 0 0;\n",
       "      width: 32px;\n",
       "    }\n",
       "\n",
       "    .colab-df-convert:hover {\n",
       "      background-color: #E2EBFA;\n",
       "      box-shadow: 0px 1px 2px rgba(60, 64, 67, 0.3), 0px 1px 3px 1px rgba(60, 64, 67, 0.15);\n",
       "      fill: #174EA6;\n",
       "    }\n",
       "\n",
       "    [theme=dark] .colab-df-convert {\n",
       "      background-color: #3B4455;\n",
       "      fill: #D2E3FC;\n",
       "    }\n",
       "\n",
       "    [theme=dark] .colab-df-convert:hover {\n",
       "      background-color: #434B5C;\n",
       "      box-shadow: 0px 1px 3px 1px rgba(0, 0, 0, 0.15);\n",
       "      filter: drop-shadow(0px 1px 2px rgba(0, 0, 0, 0.3));\n",
       "      fill: #FFFFFF;\n",
       "    }\n",
       "  </style>\n",
       "\n",
       "      <script>\n",
       "        const buttonEl =\n",
       "          document.querySelector('#df-e0a39779-561a-4d4c-a9c4-240d04c750e0 button.colab-df-convert');\n",
       "        buttonEl.style.display =\n",
       "          google.colab.kernel.accessAllowed ? 'block' : 'none';\n",
       "\n",
       "        async function convertToInteractive(key) {\n",
       "          const element = document.querySelector('#df-e0a39779-561a-4d4c-a9c4-240d04c750e0');\n",
       "          const dataTable =\n",
       "            await google.colab.kernel.invokeFunction('convertToInteractive',\n",
       "                                                     [key], {});\n",
       "          if (!dataTable) return;\n",
       "\n",
       "          const docLinkHtml = 'Like what you see? Visit the ' +\n",
       "            '<a target=\"_blank\" href=https://colab.research.google.com/notebooks/data_table.ipynb>data table notebook</a>'\n",
       "            + ' to learn more about interactive tables.';\n",
       "          element.innerHTML = '';\n",
       "          dataTable['output_type'] = 'display_data';\n",
       "          await google.colab.output.renderOutput(dataTable, element);\n",
       "          const docLink = document.createElement('div');\n",
       "          docLink.innerHTML = docLinkHtml;\n",
       "          element.appendChild(docLink);\n",
       "        }\n",
       "      </script>\n",
       "    </div>\n",
       "  </div>\n",
       "  "
      ],
      "text/plain": [
       "                            R2_Score       MAE       MSE      RMSE\n",
       "XGBoost Regressor           0.617749  0.029210  0.002973  0.054522\n",
       "GBDT Regressor(FS)          0.558436  0.036203  0.003434  0.058600\n",
       "XGBoost Regressor(FS)       0.555144  0.031098  0.003460  0.058818\n",
       "AdaBoost Regressor          0.552317  0.030299  0.003482  0.059004\n",
       "AdaBoost Regressor(FS)      0.550983  0.030853  0.003492  0.059092\n",
       "RandomForest Regressor      0.507766  0.030231  0.003828  0.061871\n",
       "GBDT Regressor              0.501084  0.035593  0.003880  0.062289\n",
       "RandomForest Regressor(FS)  0.486034  0.031030  0.003997  0.063222\n",
       "SVR                         0.449958  0.034678  0.004278  0.065403\n",
       "SVR(FS)                     0.382114  0.035214  0.004805  0.069319\n",
       "DecisionTree Regressor(FS)  0.223228  0.027973  0.006041  0.077722\n",
       "DecisionTree Regressor      0.207457  0.032961  0.006163  0.078507\n",
       "Linear Regression(FS)       0.166360  0.042069  0.006483  0.080517\n",
       "Ridge Regression(FS)        0.166340  0.042066  0.006483  0.080518\n",
       "Lasso Regression(FS)        0.162309  0.041437  0.006515  0.080713\n",
       "Ridge Regression            0.150664  0.043632  0.006605  0.081272\n",
       "Linear Regression           0.150650  0.043637  0.006605  0.081272\n",
       "Lasso Regression            0.146005  0.042938  0.006641  0.081494"
      ]
     },
     "execution_count": 67,
     "metadata": {},
     "output_type": "execute_result"
    }
   ],
   "source": [
    "FINAL_COMPARISON = pd.concat([ML_Comparison,ML_Comparison1])\n",
    "FINAL_COMPARISON.sort_values(by='RMSE',ascending=True,inplace=True)\n",
    "FINAL_COMPARISON"
   ]
  },
  {
   "cell_type": "markdown",
   "metadata": {
    "id": "NoZJwfuBcTMV"
   },
   "source": [
    "As per above results, we can see __RMSE__ is minimum for __XGBoost__ model without feature selection. We will use that for prediction."
   ]
  },
  {
   "cell_type": "markdown",
   "metadata": {
    "id": "2qa5eRJEjuth"
   },
   "source": [
    "## Submission\n",
    "We will save predictions into CSV file"
   ]
  },
  {
   "cell_type": "code",
   "execution_count": 73,
   "metadata": {
    "id": "YSjH3pqEjuth"
   },
   "outputs": [],
   "source": [
    "submission = pd.DataFrame(columns=['campaign_id','click_rate'])"
   ]
  },
  {
   "cell_type": "code",
   "execution_count": 70,
   "metadata": {
    "colab": {
     "base_uri": "https://localhost:8080/"
    },
    "id": "Vm8iv8WQcs6s",
    "outputId": "d2c7cd8c-71e8-4e19-cf5a-168a6610fb32"
   },
   "outputs": [
    {
     "name": "stdout",
     "output_type": "stream",
     "text": [
      "[13:26:59] WARNING: /workspace/src/objective/regression_obj.cu:152: reg:linear is now deprecated in favor of reg:squarederror.\n"
     ]
    },
    {
     "data": {
      "text/plain": [
       "0.9999352087562866"
      ]
     },
     "execution_count": 70,
     "metadata": {},
     "output_type": "execute_result"
    }
   ],
   "source": [
    "pipe = Pipeline([('scaler', StandardScaler()), ('svc', XGBRegressor(n_estimators=1000, max_depth=8, eta=0.315,subsample=0.7,colsample_bytree=0.8))])\n",
    "pipe.fit(X,y)\n",
    "\n",
    "#final_model = XGBRegressor(n_estimators=1000, max_depth=8, eta=0.315,subsample=0.7,colsample_bytree=0.8)\n",
    "# final_model.fit(X_train_scaled,y_train)"
   ]
  },
  {
   "cell_type": "code",
   "execution_count": 71,
   "metadata": {
    "id": "l6wmaQl0juth"
   },
   "outputs": [],
   "source": [
    "prediction = pipe.predict(new_test)"
   ]
  },
  {
   "cell_type": "code",
   "execution_count": 74,
   "metadata": {
    "colab": {
     "base_uri": "https://localhost:8080/",
     "height": 363
    },
    "id": "qpuXdJP6juth",
    "outputId": "111421e8-74a2-4925-bebf-c071144fbb28"
   },
   "outputs": [
    {
     "data": {
      "text/html": [
       "\n",
       "  <div id=\"df-7162bb0e-e58b-4aca-bc99-e95c0920172c\">\n",
       "    <div class=\"colab-df-container\">\n",
       "      <div>\n",
       "<style scoped>\n",
       "    .dataframe tbody tr th:only-of-type {\n",
       "        vertical-align: middle;\n",
       "    }\n",
       "\n",
       "    .dataframe tbody tr th {\n",
       "        vertical-align: top;\n",
       "    }\n",
       "\n",
       "    .dataframe thead th {\n",
       "        text-align: right;\n",
       "    }\n",
       "</style>\n",
       "<table border=\"1\" class=\"dataframe\">\n",
       "  <thead>\n",
       "    <tr style=\"text-align: right;\">\n",
       "      <th></th>\n",
       "      <th>campaign_id</th>\n",
       "      <th>click_rate</th>\n",
       "    </tr>\n",
       "  </thead>\n",
       "  <tbody>\n",
       "    <tr>\n",
       "      <th>323</th>\n",
       "      <td>2212</td>\n",
       "      <td>0.006928</td>\n",
       "    </tr>\n",
       "    <tr>\n",
       "      <th>527</th>\n",
       "      <td>2416</td>\n",
       "      <td>0.025507</td>\n",
       "    </tr>\n",
       "    <tr>\n",
       "      <th>83</th>\n",
       "      <td>1972</td>\n",
       "      <td>0.007317</td>\n",
       "    </tr>\n",
       "    <tr>\n",
       "      <th>540</th>\n",
       "      <td>2429</td>\n",
       "      <td>0.046548</td>\n",
       "    </tr>\n",
       "    <tr>\n",
       "      <th>96</th>\n",
       "      <td>1985</td>\n",
       "      <td>0.013141</td>\n",
       "    </tr>\n",
       "    <tr>\n",
       "      <th>485</th>\n",
       "      <td>2374</td>\n",
       "      <td>0.033881</td>\n",
       "    </tr>\n",
       "    <tr>\n",
       "      <th>408</th>\n",
       "      <td>2297</td>\n",
       "      <td>0.016107</td>\n",
       "    </tr>\n",
       "    <tr>\n",
       "      <th>738</th>\n",
       "      <td>2627</td>\n",
       "      <td>0.043188</td>\n",
       "    </tr>\n",
       "    <tr>\n",
       "      <th>8</th>\n",
       "      <td>1897</td>\n",
       "      <td>0.002698</td>\n",
       "    </tr>\n",
       "    <tr>\n",
       "      <th>471</th>\n",
       "      <td>2360</td>\n",
       "      <td>0.009181</td>\n",
       "    </tr>\n",
       "  </tbody>\n",
       "</table>\n",
       "</div>\n",
       "      <button class=\"colab-df-convert\" onclick=\"convertToInteractive('df-7162bb0e-e58b-4aca-bc99-e95c0920172c')\"\n",
       "              title=\"Convert this dataframe to an interactive table.\"\n",
       "              style=\"display:none;\">\n",
       "        \n",
       "  <svg xmlns=\"http://www.w3.org/2000/svg\" height=\"24px\"viewBox=\"0 0 24 24\"\n",
       "       width=\"24px\">\n",
       "    <path d=\"M0 0h24v24H0V0z\" fill=\"none\"/>\n",
       "    <path d=\"M18.56 5.44l.94 2.06.94-2.06 2.06-.94-2.06-.94-.94-2.06-.94 2.06-2.06.94zm-11 1L8.5 8.5l.94-2.06 2.06-.94-2.06-.94L8.5 2.5l-.94 2.06-2.06.94zm10 10l.94 2.06.94-2.06 2.06-.94-2.06-.94-.94-2.06-.94 2.06-2.06.94z\"/><path d=\"M17.41 7.96l-1.37-1.37c-.4-.4-.92-.59-1.43-.59-.52 0-1.04.2-1.43.59L10.3 9.45l-7.72 7.72c-.78.78-.78 2.05 0 2.83L4 21.41c.39.39.9.59 1.41.59.51 0 1.02-.2 1.41-.59l7.78-7.78 2.81-2.81c.8-.78.8-2.07 0-2.86zM5.41 20L4 18.59l7.72-7.72 1.47 1.35L5.41 20z\"/>\n",
       "  </svg>\n",
       "      </button>\n",
       "      \n",
       "  <style>\n",
       "    .colab-df-container {\n",
       "      display:flex;\n",
       "      flex-wrap:wrap;\n",
       "      gap: 12px;\n",
       "    }\n",
       "\n",
       "    .colab-df-convert {\n",
       "      background-color: #E8F0FE;\n",
       "      border: none;\n",
       "      border-radius: 50%;\n",
       "      cursor: pointer;\n",
       "      display: none;\n",
       "      fill: #1967D2;\n",
       "      height: 32px;\n",
       "      padding: 0 0 0 0;\n",
       "      width: 32px;\n",
       "    }\n",
       "\n",
       "    .colab-df-convert:hover {\n",
       "      background-color: #E2EBFA;\n",
       "      box-shadow: 0px 1px 2px rgba(60, 64, 67, 0.3), 0px 1px 3px 1px rgba(60, 64, 67, 0.15);\n",
       "      fill: #174EA6;\n",
       "    }\n",
       "\n",
       "    [theme=dark] .colab-df-convert {\n",
       "      background-color: #3B4455;\n",
       "      fill: #D2E3FC;\n",
       "    }\n",
       "\n",
       "    [theme=dark] .colab-df-convert:hover {\n",
       "      background-color: #434B5C;\n",
       "      box-shadow: 0px 1px 3px 1px rgba(0, 0, 0, 0.15);\n",
       "      filter: drop-shadow(0px 1px 2px rgba(0, 0, 0, 0.3));\n",
       "      fill: #FFFFFF;\n",
       "    }\n",
       "  </style>\n",
       "\n",
       "      <script>\n",
       "        const buttonEl =\n",
       "          document.querySelector('#df-7162bb0e-e58b-4aca-bc99-e95c0920172c button.colab-df-convert');\n",
       "        buttonEl.style.display =\n",
       "          google.colab.kernel.accessAllowed ? 'block' : 'none';\n",
       "\n",
       "        async function convertToInteractive(key) {\n",
       "          const element = document.querySelector('#df-7162bb0e-e58b-4aca-bc99-e95c0920172c');\n",
       "          const dataTable =\n",
       "            await google.colab.kernel.invokeFunction('convertToInteractive',\n",
       "                                                     [key], {});\n",
       "          if (!dataTable) return;\n",
       "\n",
       "          const docLinkHtml = 'Like what you see? Visit the ' +\n",
       "            '<a target=\"_blank\" href=https://colab.research.google.com/notebooks/data_table.ipynb>data table notebook</a>'\n",
       "            + ' to learn more about interactive tables.';\n",
       "          element.innerHTML = '';\n",
       "          dataTable['output_type'] = 'display_data';\n",
       "          await google.colab.output.renderOutput(dataTable, element);\n",
       "          const docLink = document.createElement('div');\n",
       "          docLink.innerHTML = docLinkHtml;\n",
       "          element.appendChild(docLink);\n",
       "        }\n",
       "      </script>\n",
       "    </div>\n",
       "  </div>\n",
       "  "
      ],
      "text/plain": [
       "     campaign_id  click_rate\n",
       "323         2212    0.006928\n",
       "527         2416    0.025507\n",
       "83          1972    0.007317\n",
       "540         2429    0.046548\n",
       "96          1985    0.013141\n",
       "485         2374    0.033881\n",
       "408         2297    0.016107\n",
       "738         2627    0.043188\n",
       "8           1897    0.002698\n",
       "471         2360    0.009181"
      ]
     },
     "execution_count": 74,
     "metadata": {},
     "output_type": "execute_result"
    }
   ],
   "source": [
    "submission['campaign_id'] = test['campaign_id']\n",
    "submission['click_rate'] = prediction\n",
    "submission.sample(10)"
   ]
  },
  {
   "cell_type": "code",
   "execution_count": 75,
   "metadata": {
    "id": "Oh86TWMLjuth"
   },
   "outputs": [],
   "source": [
    "# save output as csv\n",
    "submission.to_csv('xgboost_submission.csv',index=False)"
   ]
  },
  {
   "cell_type": "markdown",
   "metadata": {
    "id": "ubf_tJcbkGng"
   },
   "source": [
    "## References\n",
    "* FINDING CORRELATION code inspired [kaggle-user](https://www.kaggle.com/sid321axn/house-price-prediction-gboosting-adaboost-etc)\n",
    "* METRIC_CALC function inspired by [github.com/prateeknigam9/Hinglish_Classifier](https://github.com/prateeknigam9/Hinglish_Classifier/blob/main/CaseStudy_Hinglish.ipynb)\n",
    "* [Feature engineering - towards datascience](https://towardsdatascience.com/feature-engineering-in-python-part-i-the-most-powerful-way-of-dealing-with-data-8e2447e7c69e)\n",
    "* [sklearn](https://scikit-learn.org/stable/user_guide.html)\n",
    "* [xgboost](https://xgboost.readthedocs.io/en/latest/python/python_api.html#xgboost.XGBRegressor)"
   ]
  }
 ],
 "metadata": {
  "accelerator": "GPU",
  "colab": {
   "name": "Job-a-thon.ipynb",
   "provenance": []
  },
  "gpuClass": "standard",
  "kernelspec": {
   "display_name": "Python 3 (ipykernel)",
   "language": "python",
   "name": "python3"
  },
  "language_info": {
   "codemirror_mode": {
    "name": "ipython",
    "version": 3
   },
   "file_extension": ".py",
   "mimetype": "text/x-python",
   "name": "python",
   "nbconvert_exporter": "python",
   "pygments_lexer": "ipython3",
   "version": "3.10.5"
  }
 },
 "nbformat": 4,
 "nbformat_minor": 1
}
